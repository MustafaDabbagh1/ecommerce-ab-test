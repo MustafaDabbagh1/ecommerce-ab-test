{
  "cells": [
    {
      "cell_type": "markdown",
      "metadata": {
        "id": "view-in-github",
        "colab_type": "text"
      },
      "source": [
        "<a href=\"https://colab.research.google.com/github/MustafaDabbagh1/ecommerce-ab-test/blob/main/analysis.ipynb\" target=\"_parent\"><img src=\"https://colab.research.google.com/assets/colab-badge.svg\" alt=\"Open In Colab\"/></a>"
      ]
    },
    {
      "cell_type": "markdown",
      "metadata": {
        "id": "uo6XeBYwDUjG"
      },
      "source": [
        "# Retail A/B Test – Notebook\n",
        "\n",
        "**Objective:** Evaluate conversion lift from a new checkout. Run the next cell to load the sample data."
      ],
      "id": "uo6XeBYwDUjG"
    },
    {
      "cell_type": "code",
      "execution_count": 1,
      "metadata": {
        "colab": {
          "base_uri": "https://localhost:8080/",
          "height": 612
        },
        "id": "dp3VMDa4DUjH",
        "outputId": "875e035f-fb67-4dfb-ed4b-c4b2b76b88bc"
      },
      "outputs": [
        {
          "output_type": "stream",
          "name": "stdout",
          "text": [
            "   variant  sessions  purchases    avg_aov\n",
            "0  control        47         13  20.994255\n",
            "1     test        53          5   7.447547\n",
            "\n",
            "Absolute lift in conversion: -18.226%\n",
            "z = 2.37, p = 0.0089\n",
            "Saved dashboard.png\n"
          ]
        },
        {
          "output_type": "display_data",
          "data": {
            "text/plain": [
              "<IPython.core.display.Javascript object>"
            ],
            "application/javascript": [
              "\n",
              "    async function download(id, filename, size) {\n",
              "      if (!google.colab.kernel.accessAllowed) {\n",
              "        return;\n",
              "      }\n",
              "      const div = document.createElement('div');\n",
              "      const label = document.createElement('label');\n",
              "      label.textContent = `Downloading \"${filename}\": `;\n",
              "      div.appendChild(label);\n",
              "      const progress = document.createElement('progress');\n",
              "      progress.max = size;\n",
              "      div.appendChild(progress);\n",
              "      document.body.appendChild(div);\n",
              "\n",
              "      const buffers = [];\n",
              "      let downloaded = 0;\n",
              "\n",
              "      const channel = await google.colab.kernel.comms.open(id);\n",
              "      // Send a message to notify the kernel that we're ready.\n",
              "      channel.send({})\n",
              "\n",
              "      for await (const message of channel.messages) {\n",
              "        // Send a message to notify the kernel that we're ready.\n",
              "        channel.send({})\n",
              "        if (message.buffers) {\n",
              "          for (const buffer of message.buffers) {\n",
              "            buffers.push(buffer);\n",
              "            downloaded += buffer.byteLength;\n",
              "            progress.value = downloaded;\n",
              "          }\n",
              "        }\n",
              "      }\n",
              "      const blob = new Blob(buffers, {type: 'application/binary'});\n",
              "      const a = document.createElement('a');\n",
              "      a.href = window.URL.createObjectURL(blob);\n",
              "      a.download = filename;\n",
              "      div.appendChild(a);\n",
              "      a.click();\n",
              "      div.remove();\n",
              "    }\n",
              "  "
            ]
          },
          "metadata": {}
        },
        {
          "output_type": "display_data",
          "data": {
            "text/plain": [
              "<IPython.core.display.Javascript object>"
            ],
            "application/javascript": [
              "download(\"download_c9b01902-234e-40cd-940a-2cb18d9bbfbf\", \"dashboard.png\", 24042)"
            ]
          },
          "metadata": {}
        },
        {
          "output_type": "display_data",
          "data": {
            "text/plain": [
              "<Figure size 640x480 with 1 Axes>"
            ],
            "image/png": "[encoded data removed]"
          },
          "metadata": {}
        }
      ],
      "source": [
        "# Install deps\n",
        "!pip -q install pandas numpy matplotlib scipy statsmodels\n",
        "\n",
        "# Load data directly from your repo (root path)\n",
        "import pandas as pd\n",
        "from statsmodels.stats.proportion import proportions_ztest\n",
        "\n",
        "RAW = \"https://raw.githubusercontent.com/MustafaDabbagh1/ecommerce-ab-test/main/sample.csv\"\n",
        "df = pd.read_csv(RAW)\n",
        "\n",
        "summary = (df.groupby('variant')\n",
        "             .agg(sessions=('session_id','nunique'),\n",
        "                  purchases=('purchased','sum'),\n",
        "                  avg_aov=('aov','mean'))\n",
        "             .reset_index())\n",
        "\n",
        "count = summary['purchases'].values\n",
        "nobs  = summary['sessions'].values\n",
        "stat, pval = proportions_ztest(count, nobs, alternative='larger')\n",
        "\n",
        "summary, (stat, pval)\n",
        "\n",
        "\n",
        "# TL;DR you’ll paste into README\n",
        "variants = summary[\"variant\"].tolist()\n",
        "conv = (summary[\"purchases\"] / summary[\"sessions\"]).values\n",
        "lift_abs = conv[variants.index(\"test\")] - conv[variants.index(\"control\")]\n",
        "print(summary)\n",
        "print(f\"\\nAbsolute lift in conversion: {lift_abs:.3%}\")\n",
        "print(f\"z = {stat:.2f}, p = {pval:.4f}\")\n",
        "\n",
        "# Save a simple chart to the repo root\n",
        "import matplotlib.pyplot as plt\n",
        "summary.plot(x=\"variant\", y=\"sessions\", kind=\"bar\")\n",
        "plt.title(\"Sessions by Variant\"); plt.tight_layout()\n",
        "plt.savefig(\"dashboard.png\", dpi=160)\n",
        "print(\"Saved dashboard.png\")\n",
        "\n",
        "from google.colab import files\n",
        "files.download(\"dashboard.png\")\n"
      ],
      "id": "dp3VMDa4DUjH"
    }
  ],
  "metadata": {
    "kernelspec": {
      "display_name": "Python 3",
      "language": "python",
      "name": "python3"
    },
    "language_info": {
      "name": "python",
      "version": "3.x"
    },
    "colab": {
      "provenance": [],
      "include_colab_link": true
    }
  },
  "nbformat": 4,
  "nbformat_minor": 5
}